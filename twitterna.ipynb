{
 "cells": [
  {
   "cell_type": "code",
   "execution_count": null,
   "metadata": {},
   "outputs": [],
   "source": []
  },
  {
   "cell_type": "code",
   "execution_count": null,
   "metadata": {},
   "outputs": [],
   "source": [
    "na_interac_df = pd.read_csv('output/userinteraction.csv')\n",
    "interac_grouped_df = na_interac_df.groupby(['from','to',])['tweet_id'].count().reset_index().sort_values(by='tweet_id',ascending=False).reset_index()\n",
    "num_tweets = interac_grouped_df.groupby('from')['tweet_id'].sum().sort_values(ascending=False).reset_index()\n",
    "try_lang = interac_grouped_df[interac_grouped_df['tweet_id']>50]\n",
    "G = nx.from_pandas_edgelist(try_lang, source = 'from', target = 'to', edge_attr='tweet_id', create_using=nx.DiGraph())\n",
    "nx.draw_networkx(G, with_labels=True)"
   ]
  }
 ],
 "metadata": {
  "language_info": {
   "name": "python"
  },
  "orig_nbformat": 4
 },
 "nbformat": 4,
 "nbformat_minor": 2
}
